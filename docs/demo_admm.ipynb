{
 "cells": [
  {
   "cell_type": "code",
   "execution_count": 1,
   "metadata": {},
   "outputs": [
    {
     "name": "stderr",
     "output_type": "stream",
     "text": [
      "WARNING:dxchange.reader:astropy module not found\n"
     ]
    }
   ],
   "source": [
    "import tike\n",
    "import dxchange\n",
    "import scipy\n",
    "import numpy as np\n",
    "import matplotlib.pyplot as plt\n",
    "from tike.constants import *\n",
    "import pickle\n",
    "import lzma"
   ]
  },
  {
   "cell_type": "markdown",
   "metadata": {},
   "source": [
    "# Setup Experiment"
   ]
  },
  {
   "cell_type": "markdown",
   "metadata": {},
   "source": [
    "## Probe"
   ]
  },
  {
   "cell_type": "code",
   "execution_count": 2,
   "metadata": {},
   "outputs": [
    {
     "data": {
      "image/png": "[encoded data removed]",
      "text/plain": [
       "<matplotlib.figure.Figure at 0x7f3492125240>"
      ]
     },
     "metadata": {},
     "output_type": "display_data"
    },
    {
     "name": "stdout",
     "output_type": "stream",
     "text": [
      "0j (0.980067+0.198669j)\n"
     ]
    }
   ],
   "source": [
    "# Create a probe.\n",
    "pw = 15 # probe width\n",
    "energy = 5 # keV probe energy\n",
    "weights = tike.ptycho.gaussian(pw, rin=0.8, rout=1.0)\n",
    "probe = weights * np.exp(1j * weights * 0.2)\n",
    "tike.plot_phase(probe)"
   ]
  },
  {
   "cell_type": "markdown",
   "metadata": {},
   "source": [
    "## Object"
   ]
  },
  {
   "cell_type": "code",
   "execution_count": 3,
   "metadata": {},
   "outputs": [
    {
     "data": {
      "text/plain": [
       "(256, 256, 256)"
      ]
     },
     "execution_count": 3,
     "metadata": {},
     "output_type": "execute_result"
    }
   ],
   "source": [
    "# Load a 3D object.\n",
    "with lzma.open('../tests/data/nalm256.pickle.lzma', 'rb') as file:\n",
    "    obj = pickle.load(file)\n",
    "obj.shape"
   ]
  },
  {
   "cell_type": "code",
   "execution_count": 4,
   "metadata": {},
   "outputs": [
    {
     "data": {
      "text/plain": [
       "(0j, (0.00013467284535695345+2.7094510719149577e-05j))"
      ]
     },
     "execution_count": 4,
     "metadata": {},
     "output_type": "execute_result"
    }
   ],
   "source": [
    "np.min(obj), np.max(obj)"
   ]
  },
  {
   "cell_type": "code",
   "execution_count": 5,
   "metadata": {},
   "outputs": [
    {
     "data": {
      "image/png": "[encoded data removed]",
      "text/plain": [
       "<matplotlib.figure.Figure at 0x7f3491ca4390>"
      ]
     },
     "metadata": {},
     "output_type": "display_data"
    }
   ],
   "source": [
    "# Assemble the object.\n",
    "voxelsize = 1e-7\n",
    "tike.plot_complex(obj[128])"
   ]
  },
  {
   "cell_type": "markdown",
   "metadata": {},
   "source": [
    "## Trajectory"
   ]
  },
  {
   "cell_type": "code",
   "execution_count": 6,
   "metadata": {},
   "outputs": [
    {
     "data": {
      "text/plain": [
       "(402,)"
      ]
     },
     "execution_count": 6,
     "metadata": {},
     "output_type": "execute_result"
    }
   ],
   "source": [
    "N_ANGLE = int(np.pi / 2 * obj.shape[2])\n",
    "theta = np.linspace(0, np.pi, N_ANGLE, endpoint=False)\n",
    "theta.shape"
   ]
  },
  {
   "cell_type": "code",
   "execution_count": null,
   "metadata": {},
   "outputs": [
    {
     "name": "stdout",
     "output_type": "stream",
     "text": [
      "(402, 35, 35)\n"
     ]
    }
   ],
   "source": [
    "none, v, h = np.meshgrid(np.arange(N_ANGLE),\n",
    "                   np.arange(0, obj.shape[0]-pw, pw//2,),\n",
    "                   np.arange(0, obj.shape[2]-pw, pw//2,),\n",
    "                   indexing='ij')\n",
    "print(h.shape)"
   ]
  },
  {
   "cell_type": "markdown",
   "metadata": {},
   "source": [
    "# Simulate data"
   ]
  },
  {
   "cell_type": "code",
   "execution_count": null,
   "metadata": {},
   "outputs": [],
   "source": [
    "line_integrals = tike.tomo.forward(obj=obj, theta=theta) * voxelsize\n",
    "line_integrals.shape"
   ]
  },
  {
   "cell_type": "code",
   "execution_count": null,
   "metadata": {},
   "outputs": [],
   "source": [
    "tike.plot_complex(line_integrals[0])"
   ]
  },
  {
   "cell_type": "code",
   "execution_count": null,
   "metadata": {
    "collapsed": true
   },
   "outputs": [],
   "source": [
    "psi = np.exp(1j * wavenumber(energy) * line_integrals)"
   ]
  },
  {
   "cell_type": "code",
   "execution_count": null,
   "metadata": {},
   "outputs": [],
   "source": [
    "tike.plot_phase(psi[0])"
   ]
  },
  {
   "cell_type": "code",
   "execution_count": null,
   "metadata": {
    "collapsed": true
   },
   "outputs": [],
   "source": [
    "data = list()\n",
    "for view in range(len(psi)):\n",
    "    data.append(tike.ptycho.simulate(data_shape=np.ones(2, dtype=int) * pw * 3,\n",
    "                                     probe=probe, v=v[view], h=h[view],\n",
    "                                     psi=psi[view])\n",
    "               )"
   ]
  },
  {
   "cell_type": "code",
   "execution_count": null,
   "metadata": {},
   "outputs": [],
   "source": [
    "len(data), data[0].shape"
   ]
  },
  {
   "cell_type": "code",
   "execution_count": null,
   "metadata": {
    "collapsed": true
   },
   "outputs": [],
   "source": [
    "# dxchange.write_tiff(data.astype('float32'),\n",
    "#                     fname='data/detector-amplitude.tiff',\n",
    "#                     overwrite=True)"
   ]
  },
  {
   "cell_type": "code",
   "execution_count": null,
   "metadata": {
    "collapsed": true
   },
   "outputs": [],
   "source": [
    "# data = dxchange.read_tiff(fname='data/detector-amplitude.tiff')"
   ]
  },
  {
   "cell_type": "code",
   "execution_count": null,
   "metadata": {},
   "outputs": [],
   "source": [
    "plt.imshow(np.fft.fftshift(np.log(data[16][16])))\n",
    "plt.colorbar()\n",
    "plt.show()\n",
    "np.min(data), np.max(data)"
   ]
  },
  {
   "cell_type": "markdown",
   "metadata": {},
   "source": [
    "# Reconstruct"
   ]
  },
  {
   "cell_type": "code",
   "execution_count": null,
   "metadata": {},
   "outputs": [],
   "source": [
    "# init = np.random.rand(*obj.shape, 2).view(complex)[..., 0]\n",
    "recon = np.zeros(obj.shape, dtype=complex)\n",
    "recon.shape"
   ]
  },
  {
   "cell_type": "code",
   "execution_count": null,
   "metadata": {
    "scrolled": false
   },
   "outputs": [],
   "source": [
    "recon = tike.admm(obj=recon, voxelsize=voxelsize,\n",
    "             data=data,\n",
    "             probe=probe, theta=theta, v=v, h=h, energy=energy,\n",
    "             niter=1,\n",
    "             rho=0.5, gamma=0.25,\n",
    "            )"
   ]
  },
  {
   "cell_type": "code",
   "execution_count": null,
   "metadata": {},
   "outputs": [],
   "source": [
    "tike.plot_complex(recon[pw])"
   ]
  }
 ],
 "metadata": {
  "kernelspec": {
   "display_name": "Python [default]",
   "language": "python",
   "name": "python3"
  },
  "language_info": {
   "codemirror_mode": {
    "name": "ipython",
    "version": 3
   },
   "file_extension": ".py",
   "mimetype": "text/x-python",
   "name": "python",
   "nbconvert_exporter": "python",
   "pygments_lexer": "ipython3",
   "version": "3.5.3"
  }
 },
 "nbformat": 4,
 "nbformat_minor": 2
}
